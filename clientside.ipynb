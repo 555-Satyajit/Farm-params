{
 "cells": [
  {
   "cell_type": "code",
   "execution_count": null,
   "id": "a7d0f4c1-cf4f-4c21-9730-c0185e2f28a5",
   "metadata": {},
   "outputs": [],
   "source": [
    "import joblib\n",
    "import numpy as np\n",
    "\n",
    "# Load the models\n",
    "model_client_1 = joblib.load('model_client_1.pkl')\n",
    "model_client_2 = joblib.load('model_client_2.pkl')\n",
    "model_client_3 = joblib.load('model_client_3.pkl')\n",
    "model_client_4 = joblib.load('model_client_4.pkl')\n",
    "\n",
    "# Extract weights (coefficients)\n",
    "coef_1 = model_client_1.coef_\n",
    "coef_2 = model_client_2.coef_\n",
    "coef_3 = model_client_3.coef_\n",
    "coef_4 = model_client_4.coef_\n",
    "\n",
    "# Extract biases (intercepts)\n",
    "intercept_1 = model_client_1.intercept_\n",
    "intercept_2 = model_client_2.intercept_\n",
    "intercept_3 = model_client_3.intercept_\n",
    "intercept_4 = model_client_4.intercept_\n",
    "\n",
    "# Display results\n",
    "print(\"Client 1 Coefficients:\", coef_1)\n",
    "print(\"Client 1 Intercept:\", intercept_1)\n",
    "\n",
    "print(\"Client 2 Coefficients:\", coef_2)\n",
    "print(\"Client 2 Intercept:\", intercept_2)\n",
    "\n",
    "print(\"Client 3 Coefficients:\", coef_3)\n",
    "print(\"Client 3 Intercept:\", intercept_3)\n",
    "\n",
    "print(\"Client 4 Coefficients:\", coef_4)\n",
    "print(\"Client 4 Intercept:\", intercept_4)\n",
    "\n",
    "# Save coefficients and intercepts as .npy files\n",
    "np.save('coef_client_1.npy', coef_1)\n",
    "np.save('coef_client_2.npy', coef_2)\n",
    "np.save('coef_client_3.npy', coef_3)\n",
    "np.save('coef_client_4.npy', coef_4)\n",
    "\n",
    "np.save('intercept_client_1.npy', intercept_1)\n",
    "np.save('intercept_client_2.npy', intercept_2)\n",
    "np.save('intercept_client_3.npy', intercept_3)\n",
    "np.save('intercept_client_4.npy', intercept_4)\n",
    "\n",
    "print(\"Model parameters saved successfully.\")\n"
   ]
  },
  {
   "cell_type": "code",
   "execution_count": null,
   "id": "5ef88e0e-d770-48fb-ab13-a766b20721bf",
   "metadata": {},
   "outputs": [],
   "source": [
    "import git\n",
    "import os\n",
    "\n",
    "# Initialize the repo and add remote\n",
    "repo_dir = r\"C:\\Users\\SATYAJIT\\crop yield\"  # Replace with the actual path\n",
    "repo = git.Repo.init(repo_dir)\n",
    "\n",
    "# Add remote (GitHub repository URL)\n",
    "origin = repo.create_remote('origin', 'https://github.com/555-Satyajit/Farm-params')  # Replace with your repo URL\n",
    "\n",
    "# Add files\n",
    "files_to_add = ['coef_client_1.npy', 'coef_client_2.npy', 'coef_client_3.npy', 'coef_client_4.npy',\n",
    "                'intercept_client_1.npy', 'intercept_client_2.npy', 'intercept_client_3.npy', 'intercept_client_4.npy']\n",
    "repo.index.add(files_to_add)\n",
    "\n",
    "# Commit the changes\n",
    "repo.index.commit(\"Upload model parameters\")\n",
    "\n",
    "# Push to GitHub\n",
    "origin.push('master')\n"
   ]
  },
  {
   "cell_type": "code",
   "execution_count": null,
   "id": "e78656b9-3447-4057-9b15-412a8bc7cf40",
   "metadata": {},
   "outputs": [],
   "source": []
  }
 ],
 "metadata": {
  "kernelspec": {
   "display_name": "Python 3 (ipykernel)",
   "language": "python",
   "name": "python3"
  },
  "language_info": {
   "codemirror_mode": {
    "name": "ipython",
    "version": 3
   },
   "file_extension": ".py",
   "mimetype": "text/x-python",
   "name": "python",
   "nbconvert_exporter": "python",
   "pygments_lexer": "ipython3",
   "version": "3.11.5"
  }
 },
 "nbformat": 4,
 "nbformat_minor": 5
}
